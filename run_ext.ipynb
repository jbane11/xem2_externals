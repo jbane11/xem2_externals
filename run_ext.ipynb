{
 "cells": [
  {
   "cell_type": "code",
   "execution_count": 33,
   "metadata": {},
   "outputs": [],
   "source": [
    "import numpy as np\n",
    "from numpy import *\n",
    "import pandas as pd\n",
    "import matplotlib.pyplot as plt\n",
    "import os,sys\n",
    "import subprocess\n",
    "\n"
   ]
  },
  {
   "cell_type": "code",
   "execution_count": 63,
   "metadata": {},
   "outputs": [],
   "source": [
    "tgt='C12'\n",
    "model=\"1\"\n",
    "kin=\"1\"\n",
    "\n",
    "inp_file = \"kin{}_{}_m{}.inp\".format(kin,tgt,model)\n",
    "\n",
    "path= \"INP/\"+inp_file\n",
    "\n",
    "if os.path.exists(path):\n",
    "    #Run externals on this INP file\n",
    "    # Call a bash script\n",
    "    arg=inp_file[:-4]\n",
    "    !sh run_extern $arg\n",
    "else:\n",
    "    #make new input file\n",
    "    file_n=\"INP/\"+inp_file\n",
    "    file=open(file_n,\"w\")\n",
    "    file.write(\"input files for EXTERNAL: runplan/target/output\\n\")\n",
    "    file.write(\"RUNPLAN/kin{}_ep.inp\\n\".format(kin))\n",
    "    file.write(\"TARG/targ.{}_{}\\n\".format(tgt,model))\n",
    "    file.write(\"OUT/kin{}out{}_m.out\".format(kin,tgt,model))\n",
    "    file.close()\n",
    "    \n",
    "    arg=inp_file[:-4]\n",
    "    !sh run_extern $arg\n"
   ]
  },
  {
   "cell_type": "code",
   "execution_count": 17,
   "metadata": {},
   "outputs": [
    {
     "data": {
      "text/plain": [
       "'kin0_C12_m21.'"
      ]
     },
     "execution_count": 17,
     "metadata": {},
     "output_type": "execute_result"
    }
   ],
   "source": [
    "inp_file[:-3]"
   ]
  },
  {
   "cell_type": "code",
   "execution_count": 47,
   "metadata": {},
   "outputs": [],
   "source": [
    "cmd=\"run_extern kin0_D2_m1\"\n",
    "arg=\"kin0_D2_m1\""
   ]
  },
  {
   "cell_type": "code",
   "execution_count": 48,
   "metadata": {},
   "outputs": [],
   "source": [
    "!sh run_extern $arg"
   ]
  },
  {
   "cell_type": "code",
   "execution_count": 54,
   "metadata": {},
   "outputs": [],
   "source": []
  },
  {
   "cell_type": "code",
   "execution_count": null,
   "metadata": {},
   "outputs": [],
   "source": []
  }
 ],
 "metadata": {
  "kernelspec": {
   "display_name": "Python 3",
   "language": "python",
   "name": "python3"
  },
  "language_info": {
   "codemirror_mode": {
    "name": "ipython",
    "version": 3
   },
   "file_extension": ".py",
   "mimetype": "text/x-python",
   "name": "python",
   "nbconvert_exporter": "python",
   "pygments_lexer": "ipython3",
   "version": "3.7.5"
  }
 },
 "nbformat": 4,
 "nbformat_minor": 2
}
