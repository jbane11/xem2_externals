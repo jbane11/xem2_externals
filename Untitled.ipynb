{
 "cells": [
  {
   "cell_type": "code",
   "execution_count": 66,
   "metadata": {},
   "outputs": [],
   "source": [
    "import sys,  getopt,  time \n",
    "from numpy import *\n",
    "import pandas as pd\n",
    "import matplotlib.pyplot as plt\n",
    "import urllib\n",
    "import os\n",
    "\n",
    "def make_inp(inp):\n",
    "    #parse inp to needed info\n",
    "    k=inp.find(\"kin\")\n",
    "    und=inp[k:].find(\"_\")\n",
    "    kin=inp[k+3:und]\n",
    "    und2=inp[und+1:].find(\"_\")\n",
    "    tgt=inp[und+1:und2+und+1]\n",
    "    mf=inp[und+1+und2:].find(\"m\")\n",
    "    model=inp[und+1+und2+mf+1:und+1+und2+mf+2]\n",
    "    file_n=\"INP/\"+inp\n",
    "    file=open(file_n,\"w\")\n",
    "    file.write(\"input files for EXTERNAL: runplan/target/output\\n\")\n",
    "    file.write(\"RUNPLAN/kin{}_ep.inp\\n\".format(kin))\n",
    "    file.write(\"TARG/targ.{}_{}\\n\".format(tgt,model))\n",
    "    file.write(\"OUT/kin{}out{}_m.out\".format(kin,tgt,model))\n",
    "    file.close() \n",
    "    \n",
    "def isnewer(file1,file2):\n",
    "    if not os.path.exists(file1) or not os.path.exists(file2):\n",
    "        print(\"No file\")\n",
    "        return False\n",
    "    \n",
    "    stats_f1 = os.stat(file1)\n",
    "    time1=stats_f1[8]\n",
    "    stats_f2 = os.stat(file2)\n",
    "    time2=stats_f2[8]\n",
    "    \n",
    "    if time1 >= time2:\n",
    "        return True\n",
    "    else:\n",
    "        return False\n"
   ]
  },
  {
   "cell_type": "code",
   "execution_count": null,
   "metadata": {},
   "outputs": [],
   "source": [
    "#!/usr/bin/python\n",
    "\n",
    "import sys, getopt\n",
    "\n",
    "def main(argv):\n",
    "    inputfile = ''\n",
    "    outputfile = ''\n",
    "    try:\n",
    "        opts, args = getopt.getopt(argv,\"hi:o:\",[\"ifile=\",\"ofile=\"])\n",
    "    except getopt.GetoptError:\n",
    "        print 'test.py -i <inputfile> -o <outputfile>'\n",
    "        sys.exit(2)\n",
    "    for opt, arg in opts:\n",
    "        if opt == '-h':\n",
    "            print 'test.py -i <inputfile> -o <outputfile>'\n",
    "            sys.exit()\n",
    "        elif opt in (\"-i\", \"--ifile\"):\n",
    "            inputfile = arg\n",
    "        elif opt in (\"-o\", \"--ofile\"):\n",
    "            outputfile = arg\n",
    "    print 'Input file is \"', inputfile\n",
    "    print 'Output file is \"', outputfile\n",
    "    \n",
    "    \n",
    "    \n",
    "\n",
    "if __name__ == \"__main__\":\n",
    "     main(sys.argv[1:])"
   ]
  },
  {
   "cell_type": "code",
   "execution_count": 87,
   "metadata": {},
   "outputs": [
    {
     "name": "stdout",
     "output_type": "stream",
     "text": [
      "['kin0_H2_m1.inp', 'kin1_H2_m1.inp', 'kin0_H2_m3.inp', 'kin1_H2_m3.inp', 'kin0_D2_m1.inp', 'kin1_D2_m1.inp', 'kin0_D2_m3.inp', 'kin1_D2_m3.inp', 'kin0_C12_m1.inp', 'kin1_C12_m1.inp', 'kin0_C12_m3.inp', 'kin1_C12_m3.inp', 'kin0_B10_m1.inp', 'kin1_B10_m1.inp', 'kin0_B10_m3.inp', 'kin1_B10_m3.inp', 'kin0_B11_m1.inp', 'kin1_B11_m1.inp', 'kin0_B11_m3.inp', 'kin1_B11_m3.inp']\n",
      "['kin1_B10_m1.inp', 'kin0_B10_m3.inp', 'kin1_B10_m3.inp', 'kin0_B11_m1.inp', 'kin1_B11_m1.inp', 'kin0_B11_m3.inp', 'kin1_B11_m3.inp']\n"
     ]
    }
   ],
   "source": [
    "#mtime of important edits:\n",
    "\n",
    "chk_file = \"OUT/kin0outC12.out\"\n",
    "targets=[\"H2\",\"D2\",\"C12\",\"B10\",\"B11\"]\n",
    "models =[1,3]\n",
    "kins   =[0,1]\n",
    "\n",
    "inps = []\n",
    "\n",
    "for tgt in targets:\n",
    "    for m in models:\n",
    "        for kin in kins:\n",
    "            inps.append(\"kin%i_%s_m%i.inp\"%(kin,tgt,m))\n",
    "print(inps)\n",
    "need_to_run=[]            \n",
    "skipping=[]            \n",
    "for inp in inps:\n",
    "    #check if input file is there\n",
    "    path= \"INP/\"+inp    \n",
    "    if not os.path.exists(path):\n",
    "        make_inp(inp)\n",
    "        print(\"makeing \",inp)\n",
    "        \n",
    "    #Maybe add target file check\n",
    "    \n",
    "    #Compare the output see if needs to be remade\n",
    "    outfile = \"OUT/\"+inp.replace(\"inp\",\"out\")\n",
    "    if  os.path.exists(outfile):\n",
    "        if isnewer(chk_file,outfile):\n",
    "            skipping.append(inp)\n",
    "    else:\n",
    "        need_to_run.append(inp)\n",
    "        \n",
    "    \n",
    "\n",
    "\n",
    "print(need_to_run)\n",
    "\n",
    "\n"
   ]
  },
  {
   "cell_type": "code",
   "execution_count": 83,
   "metadata": {},
   "outputs": [
    {
     "data": {
      "text/plain": [
       "['kin1_D2_m1.inp', 'kin1_D2_m3.inp', 'kin0_C12_m1.inp', 'kin1_C12_m1.inp']"
      ]
     },
     "execution_count": 83,
     "metadata": {},
     "output_type": "execute_result"
    }
   ],
   "source": [
    "skipping"
   ]
  },
  {
   "cell_type": "code",
   "execution_count": 88,
   "metadata": {},
   "outputs": [
    {
     "name": "stdout",
     "output_type": "stream",
     "text": [
      "Runing  kin1_B10_m1\n",
      "Runing  kin0_B10_m3\n",
      "Runing  kin1_B10_m3\n",
      "Runing  kin0_B11_m1\n",
      "Note: The following floating-point exceptions are signalling: IEEE_INVALID_FLAG\n",
      "Runing  kin1_B11_m1\n",
      "Note: The following floating-point exceptions are signalling: IEEE_INVALID_FLAG\n",
      "Runing  kin0_B11_m3\n",
      "Note: The following floating-point exceptions are signalling: IEEE_INVALID_FLAG\n",
      "Runing  kin1_B11_m3\n",
      "Note: The following floating-point exceptions are signalling: IEEE_INVALID_FLAG\n"
     ]
    }
   ],
   "source": [
    "for inp in need_to_run:\n",
    "    arg=inp[:-4]\n",
    "    print(\"Runing \", arg)\n",
    "    !sh run_extern $arg"
   ]
  },
  {
   "cell_type": "code",
   "execution_count": 96,
   "metadata": {},
   "outputs": [],
   "source": [
    "\n",
    "def rerun(inps,tgt=\"\",kin=\"\",m=\"\"):\n",
    "    for inp in inps:\n",
    "        if tgt in inp:\n",
    "            if \"kin\"+kin in inp:\n",
    "                if \"m\"+m in inp:\n",
    "                    print(\"Rerunning \",inp)\n",
    "                    arg=inp[:-4]\n",
    "                    !sh run_extern $arg\n",
    "                    \n",
    "\n",
    "\n"
   ]
  },
  {
   "cell_type": "code",
   "execution_count": null,
   "metadata": {},
   "outputs": [
    {
     "name": "stdout",
     "output_type": "stream",
     "text": [
      "Rerunning  kin1_D2_m1.inp\n"
     ]
    }
   ],
   "source": [
    "rerun(inps,\"D2\",\"1\")"
   ]
  },
  {
   "cell_type": "code",
   "execution_count": null,
   "metadata": {},
   "outputs": [],
   "source": [
    "erw"
   ]
  }
 ],
 "metadata": {
  "kernelspec": {
   "display_name": "Python 3",
   "language": "python",
   "name": "python3"
  },
  "language_info": {
   "codemirror_mode": {
    "name": "ipython",
    "version": 3
   },
   "file_extension": ".py",
   "mimetype": "text/x-python",
   "name": "python",
   "nbconvert_exporter": "python",
   "pygments_lexer": "ipython3",
   "version": "3.7.5"
  }
 },
 "nbformat": 4,
 "nbformat_minor": 2
}
